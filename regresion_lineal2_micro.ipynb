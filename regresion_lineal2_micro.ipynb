{
  "nbformat": 4,
  "nbformat_minor": 0,
  "metadata": {
    "colab": {
      "provenance": []
    },
    "kernelspec": {
      "name": "python3",
      "display_name": "Python 3"
    },
    "language_info": {
      "name": "python"
    }
  },
  "cells": [
    {
      "cell_type": "code",
      "execution_count": null,
      "metadata": {
        "id": "KlZa9cSuI9LK"
      },
      "outputs": [],
      "source": [
        "import pandas as pd\n",
        "import numpy as np\n",
        "import matplotlib.pyplot as plt\n",
        "import seaborn as sns"
      ]
    },
    {
      "cell_type": "code",
      "source": [
        "#Cargar archivo csv desde equipo\n",
        "from google.colab import files\n",
        "files.upload()"
      ],
      "metadata": {
        "id": "On3k3QEcJLBh"
      },
      "execution_count": null,
      "outputs": []
    },
    {
      "cell_type": "code",
      "source": [
        "#Carga desde un archivo .csv sin indice\n",
        "micro = pd.read_csv('Microretailer_limpio_evidencia2.csv')\n",
        "micro.head(5)"
      ],
      "metadata": {
        "id": "Gjo8um0-J2ga"
      },
      "execution_count": null,
      "outputs": []
    },
    {
      "cell_type": "code",
      "source": [
        "#se grafican mapas de disperision de las variables #competidores, #refrigeradores, #muebles\n",
        "from turtle import color\n",
        "\n",
        "sns.scatterplot(x='145_number_direct_competitors', y='97_number_of_customers_in_store', color='blue', data=micro)\n",
        "sns.scatterplot(x='268_number_fridges', y='97_number_of_customers_in_store', color='red', data=micro)\n",
        "sns.scatterplot(x='104_how_many_shelves_does_the_micro_retailer_have', y='97_number_of_customers_in_store', color='yellow', data=micro)"
      ],
      "metadata": {
        "colab": {
          "base_uri": "https://localhost:8080/",
          "height": 297
        },
        "id": "47CRakJOJ-MG",
        "outputId": "4a811cb5-c706-4443-e560-f627721f8545"
      },
      "execution_count": null,
      "outputs": [
        {
          "output_type": "execute_result",
          "data": {
            "text/plain": [
              "<matplotlib.axes._subplots.AxesSubplot at 0x7f760adc4250>"
            ]
          },
          "metadata": {},
          "execution_count": 4
        },
        {
          "output_type": "display_data",
          "data": {
            "text/plain": [
              "<Figure size 432x288 with 1 Axes>"
            ],
            "image/png": "[encoded data removed]"
          },
          "metadata": {
            "needs_background": "light"
          }
        }
      ]
    },
    {
      "cell_type": "code",
      "source": [
        "#Declaramos las variables dependientes e independientes para la regresion lineal\n",
        "Vars_Indep=micro[['145_number_direct_competitors', '268_number_fridges', '104_how_many_shelves_does_the_micro_retailer_have']]\n",
        "Var_Dep=micro['97_number_of_customers_in_store']"
      ],
      "metadata": {
        "id": "z2ivluQIKDtQ"
      },
      "execution_count": null,
      "outputs": []
    },
    {
      "cell_type": "code",
      "source": [
        "#se define model como la funcion de regresion lineal\n",
        "from sklearn.linear_model import LinearRegression\n",
        "model= LinearRegression()"
      ],
      "metadata": {
        "id": "Zw-zAvA4KGRk"
      },
      "execution_count": null,
      "outputs": []
    },
    {
      "cell_type": "code",
      "source": [
        "#verificamos la funcion relacionada al modelo\n",
        "type(model)"
      ],
      "metadata": {
        "colab": {
          "base_uri": "https://localhost:8080/"
        },
        "id": "-yOckE4oKIxN",
        "outputId": "e8411308-6571-4a36-92dc-332b05fcf39c"
      },
      "execution_count": null,
      "outputs": [
        {
          "output_type": "execute_result",
          "data": {
            "text/plain": [
              "sklearn.linear_model._base.LinearRegression"
            ]
          },
          "metadata": {},
          "execution_count": 8
        }
      ]
    },
    {
      "cell_type": "code",
      "source": [
        "from numpy.lib.twodim_base import vander\n",
        "#ajustamos el modela con las variables antes declaradas\n",
        "model.fit(X=Vars_Indep, y=Var_Dep)\n",
        "LinearRegression()"
      ],
      "metadata": {
        "colab": {
          "base_uri": "https://localhost:8080/"
        },
        "id": "9GmHM76wKK8t",
        "outputId": "ecb31458-216d-4b9d-9ddd-3c3f46ae5582"
      },
      "execution_count": null,
      "outputs": [
        {
          "output_type": "execute_result",
          "data": {
            "text/plain": [
              "LinearRegression()"
            ]
          },
          "metadata": {},
          "execution_count": 9
        }
      ]
    },
    {
      "cell_type": "code",
      "source": [
        "#verificamos los coeficientes obtenidos para el modelo ajustado\n",
        "model.__dict__"
      ],
      "metadata": {
        "colab": {
          "base_uri": "https://localhost:8080/"
        },
        "id": "kkTlvPESKMz-",
        "outputId": "3e70f99d-125f-4dbc-d646-9767ef5a1f17"
      },
      "execution_count": null,
      "outputs": [
        {
          "output_type": "execute_result",
          "data": {
            "text/plain": [
              "{'fit_intercept': True,\n",
              " 'normalize': 'deprecated',\n",
              " 'copy_X': True,\n",
              " 'n_jobs': None,\n",
              " 'positive': False,\n",
              " 'feature_names_in_': array(['145_number_direct_competitors', '268_number_fridges',\n",
              "        '104_how_many_shelves_does_the_micro_retailer_have'], dtype=object),\n",
              " 'n_features_in_': 3,\n",
              " 'coef_': array([-0.01022968,  0.21189125,  0.00967936]),\n",
              " '_residues': 883.7713474331716,\n",
              " 'rank_': 3,\n",
              " 'singular_': array([122.74872792,  45.63149949,  35.2960898 ]),\n",
              " 'intercept_': 0.9993785285513768}"
            ]
          },
          "metadata": {},
          "execution_count": 10
        }
      ]
    },
    {
      "cell_type": "markdown",
      "source": [
        "y = -0.01022968(145_number_direct_competitors) + 0.21189125(268_number_fridges) + 0.00967936(104_how_many_shelves_does_the_micro_retailer_have) + 0.9993785285513768"
      ],
      "metadata": {
        "id": "ey_ve9gDO371"
      }
    },
    {
      "cell_type": "code",
      "source": [
        "#evaluamos la eficiencia del modelo obtenido por medio del coeficiente R2 \n",
        "model.score(Vars_Indep,Var_Dep)"
      ],
      "metadata": {
        "colab": {
          "base_uri": "https://localhost:8080/"
        },
        "id": "jkq10T5YKQch",
        "outputId": "77b9831f-f730-40e1-c9e3-cde3f1ae7b30"
      },
      "execution_count": null,
      "outputs": [
        {
          "output_type": "execute_result",
          "data": {
            "text/plain": [
              "0.06751159386391137"
            ]
          },
          "metadata": {},
          "execution_count": 11
        }
      ]
    },
    {
      "cell_type": "code",
      "source": [
        "#Predecimos los valores de total de accidentes a partir de las variables: 'alcohol', 'speeding' y 'no_previous'\n",
        "y_pred = model.predict(X=micro[['145_number_direct_competitors', '268_number_fridges', '104_how_many_shelves_does_the_micro_retailer_have']])\n",
        "y_pred"
      ],
      "metadata": {
        "colab": {
          "base_uri": "https://localhost:8080/"
        },
        "id": "bXDsNB3gKSuN",
        "outputId": "f9de0aa9-ed91-4571-85c7-b6383a5ed016"
      },
      "execution_count": null,
      "outputs": [
        {
          "output_type": "execute_result",
          "data": {
            "text/plain": [
              "array([1.85054984, 1.85054984, 1.83009047, 1.0234442 , 2.04198172,\n",
              "       2.6960689 , 1.41546849, 1.40744011, 1.83301693, 1.84269629,\n",
              "       1.35739235, 1.42859314, 1.83451254, 1.42095972, 0.99937853,\n",
              "       1.62427227, 1.39955507, 1.01433462, 1.26934592, 0.96758882,\n",
              "       0.96648817, 1.14934135, 1.16980072, 1.39192165, 1.37146228,\n",
              "       1.38169197, 1.390821  , 1.2096188 , 0.98545193, 1.38987571,\n",
              "       1.92013114, 1.17798446, 0.99513128, 1.21984848, 0.99772755,\n",
              "       1.40923443, 0.95641386, 0.95641386, 0.98545193, 1.39955507,\n",
              "       1.8231822 , 1.01763659, 1.18058073, 1.18970976, 1.20048977,\n",
              "       1.42300566, 1.82333757, 2.02554947, 1.85387125, 0.95790946,\n",
              "       1.3402229 , 1.89368934, 1.00685658, 0.97986444, 0.92611976,\n",
              "       1.19026008, 1.61144632, 1.19026008, 2.94069514, 1.19175569,\n",
              "       2.98273399, 1.19828846, 1.00481064, 0.99513128, 1.34200623,\n",
              "       0.98804819, 1.19175569, 1.43701647, 1.09507144, 1.22094914,\n",
              "       1.00905789, 1.85662289, 0.97836883, 1.65110903, 0.97781851,\n",
              "       1.51773026, 1.01763659, 1.00481064, 0.97577257, 1.16830511,\n",
              "       1.38019636, 1.01873724, 1.38019636, 1.38019636, 0.95641386,\n",
              "       0.99513128, 0.95641386, 1.63080504, 1.16830511, 0.98545193,\n",
              "       1.19081041, 0.99827787, 0.98749786, 2.00165787, 0.97577257,\n",
              "       1.0284166 , 0.98545193, 1.78567475, 1.07571273, 2.33297826,\n",
              "       1.26824527, 1.19026008, 1.18058073, 0.99717722, 0.99937853,\n",
              "       0.98914884, 1.63610688, 1.41183069, 1.63395163, 1.17035104,\n",
              "       1.39955507, 1.59208761, 1.82333757, 1.39955507, 1.60700969,\n",
              "       1.55861291, 1.51021612, 1.72630856, 1.36319996, 1.38753107,\n",
              "       1.358493  , 2.22925697, 1.41342255, 1.61294193, 0.95641386,\n",
              "       0.95641386, 0.89708169, 1.40923443, 1.22638125, 1.39955507,\n",
              "       1.39955507, 1.84529255, 1.04722499, 0.99937853, 1.39137132,\n",
              "       1.1800304 , 1.01763659, 1.17892975, 0.9988282 , 1.66188904,\n",
              "       0.97891916, 1.1886091 , 1.18058073, 1.03809596, 1.38169197,\n",
              "       0.98914884, 0.97781851, 0.99772755, 1.36068227, 1.11865229,\n",
              "       1.00795723, 1.19026008, 1.22094914, 1.68069743, 1.41183069,\n",
              "       1.39955507, 1.18766382, 1.89368934, 0.98545193, 0.98545193,\n",
              "       0.97726818, 1.37470512, 2.48246191, 2.06796381, 1.86630225,\n",
              "       1.38224229, 1.04352807, 1.38987571, 0.97577257, 1.01708626,\n",
              "       1.25911624, 1.17798446, 0.95790946, 1.04352807, 0.97577257,\n",
              "       1.25541932, 1.38019636, 1.66952246, 1.00481064, 0.96609321,\n",
              "       1.81365822, 0.96648817, 0.97616752, 2.10447993, 0.95790946,\n",
              "       0.96593784, 1.01873724, 1.00685658, 0.90566039, 1.27847495,\n",
              "       1.03644497, 0.94547847, 1.01818692, 1.0665837 , 1.16830511,\n",
              "       1.38019636, 1.00795723, 2.49645327, 1.0284166 , 1.38019636,\n",
              "       1.16830511, 2.08362561, 1.00795723, 1.01449   , 1.57147287,\n",
              "       1.41238102, 1.05745467, 1.17798446, 1.01323397, 2.06426689,\n",
              "       1.24556514, 0.94823011, 1.32944289, 1.08851357, 0.94823011,\n",
              "       0.98859852, 0.99827787, 1.15957103, 1.18766382, 0.95790946,\n",
              "       1.19828846, 1.36762203, 1.48123717, 2.23999093, 0.96813915,\n",
              "       1.01598561, 2.17333608, 1.8366678 , 2.0522114 , 1.44450656,\n",
              "       1.7107901 , 1.32082171, 1.70491698, 2.10298432, 1.20048977,\n",
              "       1.37785171, 1.39027067, 2.97140365, 2.28678278, 1.08594241,\n",
              "       2.37554798, 1.17798446, 1.17798446, 1.17798446, 1.13911166,\n",
              "       1.17798446, 1.20048977, 0.98914884, 1.20048977, 1.0961721 ,\n",
              "       1.3359877 , 1.4382725 , 1.61144632, 1.38987571, 1.40923443,\n",
              "       0.98545193, 1.41891378, 1.89423966, 1.35534641, 1.03384871,\n",
              "       0.95641386, 2.22650533, 1.35958162, 1.43118941, 1.38019636,\n",
              "       1.01449   , 1.16830511, 1.38019636, 1.00481064, 1.39247198,\n",
              "       1.42859314, 1.30588507, 1.7640054 , 1.53931331, 1.18207634,\n",
              "       1.63489691, 1.07626306, 1.11553081, 1.20048977, 1.6925781 ,\n",
              "       1.40799044, 1.0369953 , 1.0961721 , 0.99772755, 1.02416935,\n",
              "       1.17948007, 1.4382725 , 1.66243937, 0.98545193, 1.18058073,\n",
              "       1.05320742, 0.97577257, 1.0074069 , 1.88345965, 1.2316831 ,\n",
              "       0.97781851, 1.15424824, 1.21016913, 1.01873724, 1.47793521,\n",
              "       1.05635402, 1.24943688, 1.02676562, 0.98749786, 0.94767978,\n",
              "       1.00795723, 0.97671785, 1.390821  , 1.22094914, 1.04722499,\n",
              "       2.29479171, 1.42859314, 2.07394625, 1.37470512, 2.04490818,\n",
              "       1.65276001, 1.41891378, 2.07394625, 1.39955507, 1.63080504,\n",
              "       1.39955507, 1.64048439, 1.40923443, 1.40923443, 1.40270166,\n",
              "       0.97836883, 1.63395163, 0.98859852, 0.99937853, 1.36178293,\n",
              "       1.02676562, 0.95845979, 1.47698993, 1.02731594, 1.41293135,\n",
              "       0.96609321, 1.01873724, 1.43229006, 1.64048439, 0.96758882,\n",
              "       0.98545193, 1.00685658, 1.00481064, 1.04612433, 1.00850756,\n",
              "       0.94767978, 0.93579911, 0.98545193, 0.98545193, 1.21071945,\n",
              "       0.98545193, 1.60436323, 2.21957761, 2.0953509 , 0.9988282 ,\n",
              "       1.43268502, 0.96868948, 1.01818692, 1.95286613, 1.6925781 ,\n",
              "       1.09507144, 2.10503026, 1.61144632, 0.96609321, 1.39247198,\n",
              "       2.86343511, 1.04352807, 0.99772755, 0.95641386, 1.16830511,\n",
              "       1.31662898, 1.40923443, 1.07256614, 1.19734318, 1.16830511,\n",
              "       1.04352807, 1.21126978, 1.38019636, 0.98545193, 1.03384871,\n",
              "       1.02416935, 1.41891378, 0.98545193, 2.09204894, 1.44236437,\n",
              "       0.97616752, 1.80818005, 1.47698993, 0.98545193, 1.03384871,\n",
              "       1.00795723, 1.13911166, 0.96609321, 1.59208761, 0.98545193,\n",
              "       0.97577257, 1.53929029, 2.55087706, 1.17798446, 1.17798446,\n",
              "       1.04667466, 1.17948007, 1.1971878 , 0.95641386, 1.19026008,\n",
              "       1.38987571, 0.95641386, 1.60176696, 1.33232687, 1.65984311,\n",
              "       1.38428823, 1.19734318, 1.18805878, 1.63080504, 1.19734318,\n",
              "       1.44847916, 1.88141371, 1.12938625, 0.97726818, 1.34623045,\n",
              "       1.38428823, 1.06328174, 1.0369953 , 1.11553081, 0.96813915,\n",
              "       1.05635402, 1.2096188 , 1.01763659, 1.22094914, 0.94823011,\n",
              "       1.23062849, 0.95845979, 0.95845979, 1.38169197, 0.9988282 ,\n",
              "       1.57312385, 0.95845979, 1.61144632, 1.00481064, 1.22787686,\n",
              "       1.00481064, 1.17798446, 1.17798446, 1.60176696])"
            ]
          },
          "metadata": {},
          "execution_count": 12
        }
      ]
    },
    {
      "cell_type": "code",
      "source": [
        "#Insertamos la columna de predicciones en el Dataframe\n",
        "micro.insert(0, 'Predicciones', y_pred)\n",
        "micro"
      ],
      "metadata": {
        "colab": {
          "base_uri": "https://localhost:8080/",
          "height": 731
        },
        "id": "2fUTfPnFKVIZ",
        "outputId": "6ffcb47c-c1a3-4a99-815b-8c3f14cdb2c2"
      },
      "execution_count": null,
      "outputs": [
        {
          "output_type": "execute_result",
          "data": {
            "text/plain": [
              "     Predicciones  Unnamed: 0  \\\n",
              "0        1.850550           0   \n",
              "1        1.850550           1   \n",
              "2        1.830090           2   \n",
              "3        1.023444           3   \n",
              "4        2.041982           4   \n",
              "..            ...         ...   \n",
              "439      1.227877         439   \n",
              "440      1.004811         440   \n",
              "441      1.177984         441   \n",
              "442      1.177984         442   \n",
              "443      1.601767         443   \n",
              "\n",
              "                                        228_store_name  \\\n",
              "0                                   MINI SUPER 3 NORTE   \n",
              "1                                          Miscelánea    \n",
              "2                                Miscelánea casa cruz    \n",
              "3                                   SUPER & ALMACENES    \n",
              "4                                           Ranita “V”   \n",
              "..                                                 ...   \n",
              "439                                      Xuti Galería    \n",
              "440                                         July Store   \n",
              "441                                          La fonda    \n",
              "442  Birria de Res \"Hermanos Negreros 2\" estilo Tij...   \n",
              "443                          Restaurante el alfeñique    \n",
              "\n",
              "                   232_type_of_store  \\\n",
              "0     Grocery store (aka. nanostore)   \n",
              "1     Grocery store (aka. nanostore)   \n",
              "2     Grocery store (aka. nanostore)   \n",
              "3                          Chacharas   \n",
              "4     Grocery store (aka. nanostore)   \n",
              "..                               ...   \n",
              "439         productos tradicionales    \n",
              "440   Grocery store (aka. nanostore)   \n",
              "441  Micro-restaurant (aka. fondita)   \n",
              "442  Micro-restaurant (aka. fondita)   \n",
              "443  Micro-restaurant (aka. fondita)   \n",
              "\n",
              "    108_does_the_micro_retailer_has_a_barred_window_  \\\n",
              "0                                                 no   \n",
              "1                                                 no   \n",
              "2                                                 no   \n",
              "3                                                 no   \n",
              "4                                                 no   \n",
              "..                                               ...   \n",
              "439                                               no   \n",
              "440                                              yes   \n",
              "441                                              yes   \n",
              "442                                               no   \n",
              "443                                               no   \n",
              "\n",
              "    99_does_the_micro_retailer_exhibits_products_outside_  \\\n",
              "0                                                   no      \n",
              "1                                                   no      \n",
              "2                                                   no      \n",
              "3                                                   no      \n",
              "4                                                   no      \n",
              "..                                                 ...      \n",
              "439                                                yes      \n",
              "440                                                 no      \n",
              "441                                                 no      \n",
              "442                                                 no      \n",
              "443                                                 no      \n",
              "\n",
              "    102_does_the_micro_retailer_sells_fresh_products_  \\\n",
              "0                                                 yes   \n",
              "1                                                 yes   \n",
              "2                                                  no   \n",
              "3                                                  no   \n",
              "4                                                  no   \n",
              "..                                                ...   \n",
              "439                                                no   \n",
              "440                                                no   \n",
              "441                                               yes   \n",
              "442                                               yes   \n",
              "443                                               yes   \n",
              "\n",
              "                                     184_store_devices  \\\n",
              "0                                 Analog cash register   \n",
              "1                                 Analog cash register   \n",
              "2                                 Analog cash register   \n",
              "3    POS system (i.e. computer + bar code scanner +...   \n",
              "4                                 Analog cash register   \n",
              "..                                                 ...   \n",
              "439                               Analog cash register   \n",
              "440                    Analog cash register,Smartphone   \n",
              "441                                         Smartphone   \n",
              "442                               Analog cash register   \n",
              "443                                         Smartphone   \n",
              "\n",
              "    hola_somos_estudiantes_del_tec_de_monterrey_estamos_realiz  \\\n",
              "0                                                   no           \n",
              "1                                                  yes           \n",
              "2                                                  yes           \n",
              "3                                                  yes           \n",
              "4                                                  yes           \n",
              "..                                                 ...           \n",
              "439                                                yes           \n",
              "440                                                 no           \n",
              "441                                                 no           \n",
              "442                                                 no           \n",
              "443                                                 no           \n",
              "\n",
              "    le_comento_que_toda_esta_informacin_es_confidencial  ... 24_burnout  \\\n",
              "0                                                   no   ...        3.9   \n",
              "1                                                  yes   ...        3.9   \n",
              "2                                                  yes   ...        3.9   \n",
              "3                                                  yes   ...        3.9   \n",
              "4                                                  yes   ...        3.9   \n",
              "..                                                 ...   ...        ...   \n",
              "439                                                yes   ...        3.9   \n",
              "440                                                yes   ...        3.9   \n",
              "441                                                yes   ...        3.9   \n",
              "442                                                yes   ...        3.9   \n",
              "443                                                 no   ...        3.9   \n",
              "\n",
              "    272_card_days_receive_money 276_expected_days_informal_credit  \\\n",
              "0                           1.1                              12.0   \n",
              "1                           1.1                              12.0   \n",
              "2                           1.1                              12.0   \n",
              "3                           1.0                              12.0   \n",
              "4                           1.1                              12.0   \n",
              "..                          ...                               ...   \n",
              "439                         1.0                              12.0   \n",
              "440                         1.1                              12.0   \n",
              "441                         1.1                              12.0   \n",
              "442                         1.1                              12.0   \n",
              "443                         1.1                              12.0   \n",
              "\n",
              "    36_credit_default_rate 315_frequency_topups 316_frequency_utility_bills  \\\n",
              "0                      1.4                 12.0                         6.5   \n",
              "1                      1.4                 12.0                         6.5   \n",
              "2                      1.4                 12.0                         6.5   \n",
              "3                      1.4                 12.0                         6.5   \n",
              "4                      1.4                 12.0                         6.5   \n",
              "..                     ...                  ...                         ...   \n",
              "439                    1.4                 12.0                         6.5   \n",
              "440                    1.4                 12.0                         6.5   \n",
              "441                    1.4                 12.0                         6.5   \n",
              "442                    1.4                 12.0                         6.5   \n",
              "443                    1.4                 12.0                         6.5   \n",
              "\n",
              "    317_home_deliveries 62_frequency_only_services  \\\n",
              "0                  13.2                        8.2   \n",
              "1                  13.2                        8.2   \n",
              "2                  13.2                        8.2   \n",
              "3                  13.2                        8.2   \n",
              "4                  13.2                        8.2   \n",
              "..                  ...                        ...   \n",
              "439                13.2                        1.0   \n",
              "440                13.2                        8.2   \n",
              "441                13.2                        8.2   \n",
              "442                13.2                        8.2   \n",
              "443                13.2                        8.2   \n",
              "\n",
              "    78_number_home_deliveries_week 172_supplier_frequency  \n",
              "0                              2.2                    4.0  \n",
              "1                              2.2                    1.0  \n",
              "2                              2.2                    3.0  \n",
              "3                              2.2                    2.0  \n",
              "4                              2.2                    2.0  \n",
              "..                             ...                    ...  \n",
              "439                            2.2                    5.0  \n",
              "440                            2.2                    2.5  \n",
              "441                            2.2                    2.5  \n",
              "442                            2.2                    2.5  \n",
              "443                            2.2                    2.5  \n",
              "\n",
              "[444 rows x 89 columns]"
            ],
            "text/html": [
              "\n",
              "  <div id=\"df-54473511-7985-4790-a208-4b810c37765e\">\n",
              "    <div class=\"colab-df-container\">\n",
              "      <div>\n",
              "<style scoped>\n",
              "    .dataframe tbody tr th:only-of-type {\n",
              "        vertical-align: middle;\n",
              "    }\n",
              "\n",
              "    .dataframe tbody tr th {\n",
              "        vertical-align: top;\n",
              "    }\n",
              "\n",
              "    .dataframe thead th {\n",
              "        text-align: right;\n",
              "    }\n",
              "</style>\n",
              "<table border=\"1\" class=\"dataframe\">\n",
              "  <thead>\n",
              "    <tr style=\"text-align: right;\">\n",
              "      <th></th>\n",
              "      <th>Predicciones</th>\n",
              "      <th>Unnamed: 0</th>\n",
              "      <th>228_store_name</th>\n",
              "      <th>232_type_of_store</th>\n",
              "      <th>108_does_the_micro_retailer_has_a_barred_window_</th>\n",
              "      <th>99_does_the_micro_retailer_exhibits_products_outside_</th>\n",
              "      <th>102_does_the_micro_retailer_sells_fresh_products_</th>\n",
              "      <th>184_store_devices</th>\n",
              "      <th>hola_somos_estudiantes_del_tec_de_monterrey_estamos_realiz</th>\n",
              "      <th>le_comento_que_toda_esta_informacin_es_confidencial</th>\n",
              "      <th>...</th>\n",
              "      <th>24_burnout</th>\n",
              "      <th>272_card_days_receive_money</th>\n",
              "      <th>276_expected_days_informal_credit</th>\n",
              "      <th>36_credit_default_rate</th>\n",
              "      <th>315_frequency_topups</th>\n",
              "      <th>316_frequency_utility_bills</th>\n",
              "      <th>317_home_deliveries</th>\n",
              "      <th>62_frequency_only_services</th>\n",
              "      <th>78_number_home_deliveries_week</th>\n",
              "      <th>172_supplier_frequency</th>\n",
              "    </tr>\n",
              "  </thead>\n",
              "  <tbody>\n",
              "    <tr>\n",
              "      <th>0</th>\n",
              "      <td>1.850550</td>\n",
              "      <td>0</td>\n",
              "      <td>MINI SUPER 3 NORTE</td>\n",
              "      <td>Grocery store (aka. nanostore)</td>\n",
              "      <td>no</td>\n",
              "      <td>no</td>\n",
              "      <td>yes</td>\n",
              "      <td>Analog cash register</td>\n",
              "      <td>no</td>\n",
              "      <td>no</td>\n",
              "      <td>...</td>\n",
              "      <td>3.9</td>\n",
              "      <td>1.1</td>\n",
              "      <td>12.0</td>\n",
              "      <td>1.4</td>\n",
              "      <td>12.0</td>\n",
              "      <td>6.5</td>\n",
              "      <td>13.2</td>\n",
              "      <td>8.2</td>\n",
              "      <td>2.2</td>\n",
              "      <td>4.0</td>\n",
              "    </tr>\n",
              "    <tr>\n",
              "      <th>1</th>\n",
              "      <td>1.850550</td>\n",
              "      <td>1</td>\n",
              "      <td>Miscelánea</td>\n",
              "      <td>Grocery store (aka. nanostore)</td>\n",
              "      <td>no</td>\n",
              "      <td>no</td>\n",
              "      <td>yes</td>\n",
              "      <td>Analog cash register</td>\n",
              "      <td>yes</td>\n",
              "      <td>yes</td>\n",
              "      <td>...</td>\n",
              "      <td>3.9</td>\n",
              "      <td>1.1</td>\n",
              "      <td>12.0</td>\n",
              "      <td>1.4</td>\n",
              "      <td>12.0</td>\n",
              "      <td>6.5</td>\n",
              "      <td>13.2</td>\n",
              "      <td>8.2</td>\n",
              "      <td>2.2</td>\n",
              "      <td>1.0</td>\n",
              "    </tr>\n",
              "    <tr>\n",
              "      <th>2</th>\n",
              "      <td>1.830090</td>\n",
              "      <td>2</td>\n",
              "      <td>Miscelánea casa cruz</td>\n",
              "      <td>Grocery store (aka. nanostore)</td>\n",
              "      <td>no</td>\n",
              "      <td>no</td>\n",
              "      <td>no</td>\n",
              "      <td>Analog cash register</td>\n",
              "      <td>yes</td>\n",
              "      <td>yes</td>\n",
              "      <td>...</td>\n",
              "      <td>3.9</td>\n",
              "      <td>1.1</td>\n",
              "      <td>12.0</td>\n",
              "      <td>1.4</td>\n",
              "      <td>12.0</td>\n",
              "      <td>6.5</td>\n",
              "      <td>13.2</td>\n",
              "      <td>8.2</td>\n",
              "      <td>2.2</td>\n",
              "      <td>3.0</td>\n",
              "    </tr>\n",
              "    <tr>\n",
              "      <th>3</th>\n",
              "      <td>1.023444</td>\n",
              "      <td>3</td>\n",
              "      <td>SUPER &amp; ALMACENES</td>\n",
              "      <td>Chacharas</td>\n",
              "      <td>no</td>\n",
              "      <td>no</td>\n",
              "      <td>no</td>\n",
              "      <td>POS system (i.e. computer + bar code scanner +...</td>\n",
              "      <td>yes</td>\n",
              "      <td>yes</td>\n",
              "      <td>...</td>\n",
              "      <td>3.9</td>\n",
              "      <td>1.0</td>\n",
              "      <td>12.0</td>\n",
              "      <td>1.4</td>\n",
              "      <td>12.0</td>\n",
              "      <td>6.5</td>\n",
              "      <td>13.2</td>\n",
              "      <td>8.2</td>\n",
              "      <td>2.2</td>\n",
              "      <td>2.0</td>\n",
              "    </tr>\n",
              "    <tr>\n",
              "      <th>4</th>\n",
              "      <td>2.041982</td>\n",
              "      <td>4</td>\n",
              "      <td>Ranita “V”</td>\n",
              "      <td>Grocery store (aka. nanostore)</td>\n",
              "      <td>no</td>\n",
              "      <td>no</td>\n",
              "      <td>no</td>\n",
              "      <td>Analog cash register</td>\n",
              "      <td>yes</td>\n",
              "      <td>yes</td>\n",
              "      <td>...</td>\n",
              "      <td>3.9</td>\n",
              "      <td>1.1</td>\n",
              "      <td>12.0</td>\n",
              "      <td>1.4</td>\n",
              "      <td>12.0</td>\n",
              "      <td>6.5</td>\n",
              "      <td>13.2</td>\n",
              "      <td>8.2</td>\n",
              "      <td>2.2</td>\n",
              "      <td>2.0</td>\n",
              "    </tr>\n",
              "    <tr>\n",
              "      <th>...</th>\n",
              "      <td>...</td>\n",
              "      <td>...</td>\n",
              "      <td>...</td>\n",
              "      <td>...</td>\n",
              "      <td>...</td>\n",
              "      <td>...</td>\n",
              "      <td>...</td>\n",
              "      <td>...</td>\n",
              "      <td>...</td>\n",
              "      <td>...</td>\n",
              "      <td>...</td>\n",
              "      <td>...</td>\n",
              "      <td>...</td>\n",
              "      <td>...</td>\n",
              "      <td>...</td>\n",
              "      <td>...</td>\n",
              "      <td>...</td>\n",
              "      <td>...</td>\n",
              "      <td>...</td>\n",
              "      <td>...</td>\n",
              "      <td>...</td>\n",
              "    </tr>\n",
              "    <tr>\n",
              "      <th>439</th>\n",
              "      <td>1.227877</td>\n",
              "      <td>439</td>\n",
              "      <td>Xuti Galería</td>\n",
              "      <td>productos tradicionales</td>\n",
              "      <td>no</td>\n",
              "      <td>yes</td>\n",
              "      <td>no</td>\n",
              "      <td>Analog cash register</td>\n",
              "      <td>yes</td>\n",
              "      <td>yes</td>\n",
              "      <td>...</td>\n",
              "      <td>3.9</td>\n",
              "      <td>1.0</td>\n",
              "      <td>12.0</td>\n",
              "      <td>1.4</td>\n",
              "      <td>12.0</td>\n",
              "      <td>6.5</td>\n",
              "      <td>13.2</td>\n",
              "      <td>1.0</td>\n",
              "      <td>2.2</td>\n",
              "      <td>5.0</td>\n",
              "    </tr>\n",
              "    <tr>\n",
              "      <th>440</th>\n",
              "      <td>1.004811</td>\n",
              "      <td>440</td>\n",
              "      <td>July Store</td>\n",
              "      <td>Grocery store (aka. nanostore)</td>\n",
              "      <td>yes</td>\n",
              "      <td>no</td>\n",
              "      <td>no</td>\n",
              "      <td>Analog cash register,Smartphone</td>\n",
              "      <td>no</td>\n",
              "      <td>yes</td>\n",
              "      <td>...</td>\n",
              "      <td>3.9</td>\n",
              "      <td>1.1</td>\n",
              "      <td>12.0</td>\n",
              "      <td>1.4</td>\n",
              "      <td>12.0</td>\n",
              "      <td>6.5</td>\n",
              "      <td>13.2</td>\n",
              "      <td>8.2</td>\n",
              "      <td>2.2</td>\n",
              "      <td>2.5</td>\n",
              "    </tr>\n",
              "    <tr>\n",
              "      <th>441</th>\n",
              "      <td>1.177984</td>\n",
              "      <td>441</td>\n",
              "      <td>La fonda</td>\n",
              "      <td>Micro-restaurant (aka. fondita)</td>\n",
              "      <td>yes</td>\n",
              "      <td>no</td>\n",
              "      <td>yes</td>\n",
              "      <td>Smartphone</td>\n",
              "      <td>no</td>\n",
              "      <td>yes</td>\n",
              "      <td>...</td>\n",
              "      <td>3.9</td>\n",
              "      <td>1.1</td>\n",
              "      <td>12.0</td>\n",
              "      <td>1.4</td>\n",
              "      <td>12.0</td>\n",
              "      <td>6.5</td>\n",
              "      <td>13.2</td>\n",
              "      <td>8.2</td>\n",
              "      <td>2.2</td>\n",
              "      <td>2.5</td>\n",
              "    </tr>\n",
              "    <tr>\n",
              "      <th>442</th>\n",
              "      <td>1.177984</td>\n",
              "      <td>442</td>\n",
              "      <td>Birria de Res \"Hermanos Negreros 2\" estilo Tij...</td>\n",
              "      <td>Micro-restaurant (aka. fondita)</td>\n",
              "      <td>no</td>\n",
              "      <td>no</td>\n",
              "      <td>yes</td>\n",
              "      <td>Analog cash register</td>\n",
              "      <td>no</td>\n",
              "      <td>yes</td>\n",
              "      <td>...</td>\n",
              "      <td>3.9</td>\n",
              "      <td>1.1</td>\n",
              "      <td>12.0</td>\n",
              "      <td>1.4</td>\n",
              "      <td>12.0</td>\n",
              "      <td>6.5</td>\n",
              "      <td>13.2</td>\n",
              "      <td>8.2</td>\n",
              "      <td>2.2</td>\n",
              "      <td>2.5</td>\n",
              "    </tr>\n",
              "    <tr>\n",
              "      <th>443</th>\n",
              "      <td>1.601767</td>\n",
              "      <td>443</td>\n",
              "      <td>Restaurante el alfeñique</td>\n",
              "      <td>Micro-restaurant (aka. fondita)</td>\n",
              "      <td>no</td>\n",
              "      <td>no</td>\n",
              "      <td>yes</td>\n",
              "      <td>Smartphone</td>\n",
              "      <td>no</td>\n",
              "      <td>no</td>\n",
              "      <td>...</td>\n",
              "      <td>3.9</td>\n",
              "      <td>1.1</td>\n",
              "      <td>12.0</td>\n",
              "      <td>1.4</td>\n",
              "      <td>12.0</td>\n",
              "      <td>6.5</td>\n",
              "      <td>13.2</td>\n",
              "      <td>8.2</td>\n",
              "      <td>2.2</td>\n",
              "      <td>2.5</td>\n",
              "    </tr>\n",
              "  </tbody>\n",
              "</table>\n",
              "<p>444 rows × 89 columns</p>\n",
              "</div>\n",
              "      <button class=\"colab-df-convert\" onclick=\"convertToInteractive('df-54473511-7985-4790-a208-4b810c37765e')\"\n",
              "              title=\"Convert this dataframe to an interactive table.\"\n",
              "              style=\"display:none;\">\n",
              "        \n",
              "  <svg xmlns=\"http://www.w3.org/2000/svg\" height=\"24px\"viewBox=\"0 0 24 24\"\n",
              "       width=\"24px\">\n",
              "    <path d=\"M0 0h24v24H0V0z\" fill=\"none\"/>\n",
              "    <path d=\"M18.56 5.44l.94 2.06.94-2.06 2.06-.94-2.06-.94-.94-2.06-.94 2.06-2.06.94zm-11 1L8.5 8.5l.94-2.06 2.06-.94-2.06-.94L8.5 2.5l-.94 2.06-2.06.94zm10 10l.94 2.06.94-2.06 2.06-.94-2.06-.94-.94-2.06-.94 2.06-2.06.94z\"/><path d=\"M17.41 7.96l-1.37-1.37c-.4-.4-.92-.59-1.43-.59-.52 0-1.04.2-1.43.59L10.3 9.45l-7.72 7.72c-.78.78-.78 2.05 0 2.83L4 21.41c.39.39.9.59 1.41.59.51 0 1.02-.2 1.41-.59l7.78-7.78 2.81-2.81c.8-.78.8-2.07 0-2.86zM5.41 20L4 18.59l7.72-7.72 1.47 1.35L5.41 20z\"/>\n",
              "  </svg>\n",
              "      </button>\n",
              "      \n",
              "  <style>\n",
              "    .colab-df-container {\n",
              "      display:flex;\n",
              "      flex-wrap:wrap;\n",
              "      gap: 12px;\n",
              "    }\n",
              "\n",
              "    .colab-df-convert {\n",
              "      background-color: #E8F0FE;\n",
              "      border: none;\n",
              "      border-radius: 50%;\n",
              "      cursor: pointer;\n",
              "      display: none;\n",
              "      fill: #1967D2;\n",
              "      height: 32px;\n",
              "      padding: 0 0 0 0;\n",
              "      width: 32px;\n",
              "    }\n",
              "\n",
              "    .colab-df-convert:hover {\n",
              "      background-color: #E2EBFA;\n",
              "      box-shadow: 0px 1px 2px rgba(60, 64, 67, 0.3), 0px 1px 3px 1px rgba(60, 64, 67, 0.15);\n",
              "      fill: #174EA6;\n",
              "    }\n",
              "\n",
              "    [theme=dark] .colab-df-convert {\n",
              "      background-color: #3B4455;\n",
              "      fill: #D2E3FC;\n",
              "    }\n",
              "\n",
              "    [theme=dark] .colab-df-convert:hover {\n",
              "      background-color: #434B5C;\n",
              "      box-shadow: 0px 1px 3px 1px rgba(0, 0, 0, 0.15);\n",
              "      filter: drop-shadow(0px 1px 2px rgba(0, 0, 0, 0.3));\n",
              "      fill: #FFFFFF;\n",
              "    }\n",
              "  </style>\n",
              "\n",
              "      <script>\n",
              "        const buttonEl =\n",
              "          document.querySelector('#df-54473511-7985-4790-a208-4b810c37765e button.colab-df-convert');\n",
              "        buttonEl.style.display =\n",
              "          google.colab.kernel.accessAllowed ? 'block' : 'none';\n",
              "\n",
              "        async function convertToInteractive(key) {\n",
              "          const element = document.querySelector('#df-54473511-7985-4790-a208-4b810c37765e');\n",
              "          const dataTable =\n",
              "            await google.colab.kernel.invokeFunction('convertToInteractive',\n",
              "                                                     [key], {});\n",
              "          if (!dataTable) return;\n",
              "\n",
              "          const docLinkHtml = 'Like what you see? Visit the ' +\n",
              "            '<a target=\"_blank\" href=https://colab.research.google.com/notebooks/data_table.ipynb>data table notebook</a>'\n",
              "            + ' to learn more about interactive tables.';\n",
              "          element.innerHTML = '';\n",
              "          dataTable['output_type'] = 'display_data';\n",
              "          await google.colab.output.renderOutput(dataTable, element);\n",
              "          const docLink = document.createElement('div');\n",
              "          docLink.innerHTML = docLinkHtml;\n",
              "          element.appendChild(docLink);\n",
              "        }\n",
              "      </script>\n",
              "    </div>\n",
              "  </div>\n",
              "  "
            ]
          },
          "metadata": {},
          "execution_count": 13
        }
      ]
    },
    {
      "cell_type": "code",
      "source": [
        "#Comparamos entre total real y total predictivo\n",
        "sns.scatterplot(x='145_number_direct_competitors', y='97_number_of_customers_in_store', color=\"blue\" , data=micro)\n",
        "sns.scatterplot(x='145_number_direct_competitors', y='Predicciones', color=\"red\" , data=micro)"
      ],
      "metadata": {
        "colab": {
          "base_uri": "https://localhost:8080/",
          "height": 297
        },
        "id": "BFinvat-KWYt",
        "outputId": "ca0672cd-d688-489c-fa49-5ea18cc726cc"
      },
      "execution_count": null,
      "outputs": [
        {
          "output_type": "execute_result",
          "data": {
            "text/plain": [
              "<matplotlib.axes._subplots.AxesSubplot at 0x7f34a5769a50>"
            ]
          },
          "metadata": {},
          "execution_count": 14
        },
        {
          "output_type": "display_data",
          "data": {
            "text/plain": [
              "<Figure size 432x288 with 1 Axes>"
            ],
            "image/png": "[encoded data removed]"
          },
          "metadata": {
            "needs_background": "light"
          }
        }
      ]
    },
    {
      "cell_type": "code",
      "source": [
        "#Corroboramos cual es el coeficiente de Determinación de nuestro modelo\n",
        "coef_Deter = model.score(X=Vars_Indep,y=Var_Dep)\n",
        "coef_Deter"
      ],
      "metadata": {
        "colab": {
          "base_uri": "https://localhost:8080/"
        },
        "id": "p9zsV_k_KZ5L",
        "outputId": "ca5a2433-ef54-4ae2-a53f-ba4fe05c4a23"
      },
      "execution_count": null,
      "outputs": [
        {
          "output_type": "execute_result",
          "data": {
            "text/plain": [
              "0.06751159386391137"
            ]
          },
          "metadata": {},
          "execution_count": 15
        }
      ]
    },
    {
      "cell_type": "code",
      "source": [
        "#Corroboramos cual es el coeficiente de correlación de nuestro modelo\n",
        "coef_Correl = np.sqrt(coef_Deter)\n",
        "coef_Correl"
      ],
      "metadata": {
        "colab": {
          "base_uri": "https://localhost:8080/"
        },
        "id": "TFmDzYsNKcmP",
        "outputId": "99c6670e-8efa-4c2a-8aff-43b8f2f4b009"
      },
      "execution_count": null,
      "outputs": [
        {
          "output_type": "execute_result",
          "data": {
            "text/plain": [
              "0.25982993257881465"
            ]
          },
          "metadata": {},
          "execution_count": 16
        }
      ]
    }
  ]
}